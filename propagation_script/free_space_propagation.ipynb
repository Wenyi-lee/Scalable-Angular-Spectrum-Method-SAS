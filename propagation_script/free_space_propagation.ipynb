{
 "cells": [
  {
   "cell_type": "markdown",
   "metadata": {},
   "source": [
    "This is a script which contains different propagation algorithms and their error analyse.\n",
    "\n",
    "2024-09-30\n",
    "Wenyi Li\n",
    "references: \n",
    "\n",
    "[1] SAS. Optica 2024 \n",
    "\n",
    "[2] Bandlimited Angular Spectrum Method. OE 2009\n",
    "\n",
    "[3] Fast-Fourier-transform (FFT) based direct integration (FFT-DI). AO 2006"
   ]
  },
  {
   "cell_type": "markdown",
   "metadata": {},
   "source": [
    "The script will be introduced as following chapters\n",
    "1. Theory of wave equation and different methods\n",
    "2. Algorithm of each method\n",
    "3. Comparison and analyze"
   ]
  },
  {
   "cell_type": "markdown",
   "metadata": {},
   "source": [
    "#### 1. Theory\n",
    "\n",
    "##### 1.1 Helmholtz equation\n",
    "For linear homogenous isotropic media, the 3D scalar Helmholtz equation can be written as following  \n",
    "$$\n",
    "\\nabla^2 \\psi + k^2 \\psi = 0 \\tag{1}\n",
    "$$ \n",
    "The Rayleigh-Sommerfeld solution for an input monochramatic source field is:\n",
    "$$\n",
    "U(x,y,z) = \\iint{U_0(x',y',0)}\\frac{exp(i2\\pi r' \\lambda^{-1})}{r'}\\frac{z}{r'}(\\frac{1}{2\\pi r'}+\\frac{1}{i\\lambda})dx'dy' \\tag{2}\n",
    "$$\n",
    "\n",
    "##### 1.2 numerical method\n",
    "\n",
    "##### 1.2.1 Directly integration method (FFT-DI) (This is the RS we called in out group, which is confusing, because all the numerical methods in the following based on the RS integration)\n",
    "\n",
    "$$\n",
    "h(x,y,z) = \\frac{exp(i2\\pi r' \\lambda^{-1})}{r}\\frac{z}{r}(\\frac{1}{2\\pi r}+\\frac{1}{i\\lambda}) \\tag{3}\n",
    "$$\n",
    "where $r = \\sqrt{x^2+y^2+z^2}$, and the method is formulated by the following:\n",
    "$$\n",
    "U(x,y,z) = U_0(x,y,0) * h(x,y,z) \\tag{4}\n",
    "$$\n",
    "The convolution is calculated by 3 times FFT.\n",
    "##### 1.2.2 Angular Spectrum Method (AS)\n",
    "\n",
    "$$\n",
    "H(u,v;z) = \\mathcal{F}\\{h(x,y,z)\\}=exp(i2\\pi w z)\n",
    "$$\n",
    "$$\n",
    "w = w(u,v) = \\sqrt{\\lambda^{-2}-u^2-v^2} \n",
    "$$\n",
    "PS: If the inner part is not less than 0, then $w$ is zero. So the field will be calculated by:\n",
    "$$\n",
    "U(x,y,z) = \\mathcal{F}^{-1}\\{\\mathcal{F}\\{U_0(x,y,z) * H(u,v;z)\\} \\}\n",
    "$$\n",
    "Therefore, there is only 2 times FFT involved. 50% faster than 3 times FFT.\n",
    "\n",
    "##### 1.2.2.1 Band-limited AS\n",
    "Because the AS has numerical errors when you directly implement it due to sampling problem of the Transfer Function H. [2] \n",
    "By limiting the bandwidth of the propagation field and expands the region in which exact field can be calcualted by the AS.\n",
    "1. Because FFT is circular convolution, there might be errors if the result we are interested is out of the computational window. To solve this, we need to double the input field.\n",
    "2. if the input size is $S_x$, and the padded size is $2S_x$, the accuracy drops when $z>10S_x$. This is because the transfer function is undersampled.\n",
    "$$\n",
    "\\Delta u = 1/(2S_x) = 1/(2N_x \\Delta x)\n",
    "$$\n",
    "We can calculate the gradient of the Transfer function \n",
    "$$\n",
    "f_u = \\frac{\\partial H}{\\partial u} = \\frac{uz}{[\\lambda^{-2}-u^2]^{1/2}}\n",
    "$$\n",
    "therefore, AS is only accurate when $1/\\Delta u \\geq 2|f_u|$, which avoids aliasing error. We can calculate the limit of u as following:\n",
    "$$\n",
    "|u| \\leq \\frac{1}{[(2\\Delta u z)^2+1]^{1/2}\\lambda} \\equiv u_{limit}\n",
    "$$\n",
    "As a result, the TF should be clipped within a bandwidth of $2u_{limit}$ \n",
    "$$\n",
    "H'(u,z) = H(u,z)rect(u\\frac{u}{2u_{limit}})\n",
    "$$\n",
    "Those are 1D derivation, but 2D can be similarily derived, u and v have same expression as 1D. The H will be \n",
    "$$\n",
    "H'(u,v;z) = H(u,v;z)rect(u\\frac{u}{2u_{limit}})rect(u\\frac{v}{2v_{limit}})\n",
    "$$\n",
    "\n",
    "##### 1.2.2.2 minumum bandwidth required for exact numerical propagation. \n",
    "Refer to [2], the bandwidth of the proposed method always satisfies the condition of the minimum bandwidth.\n"
   ]
  },
  {
   "cell_type": "markdown",
   "metadata": {},
   "source": [
    "#### 2. Algorithm\n",
    "\n",
    "2.1 FFT-DI"
   ]
  },
  {
   "cell_type": "code",
   "execution_count": null,
   "metadata": {},
   "outputs": [],
   "source": [
    "\n",
    "def FFT_DI(u0,dx,z):\n",
    "    pass\n"
   ]
  },
  {
   "cell_type": "markdown",
   "metadata": {},
   "source": [
    "2.2 AS"
   ]
  },
  {
   "cell_type": "code",
   "execution_count": null,
   "metadata": {},
   "outputs": [],
   "source": [
    "def AS(u0,dx,z):\n",
    "    pass"
   ]
  },
  {
   "cell_type": "markdown",
   "metadata": {},
   "source": [
    "2.3 Band-limited AS"
   ]
  },
  {
   "cell_type": "code",
   "execution_count": null,
   "metadata": {},
   "outputs": [],
   "source": [
    "def B_AS(u0,dx,z):\n",
    "    pass"
   ]
  }
 ],
 "metadata": {
  "language_info": {
   "name": "python"
  }
 },
 "nbformat": 4,
 "nbformat_minor": 2
}
